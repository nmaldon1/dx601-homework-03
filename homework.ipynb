{
  "cells": [
    {
      "cell_type": "markdown",
      "metadata": {
        "id": "dOAc3rwtOqza"
      },
      "source": [
        "# DX 601 Week 3 Homework"
      ]
    },
    {
      "cell_type": "markdown",
      "metadata": {
        "id": "HvFQlfoVn8ZT"
      },
      "source": [
        "## Introduction\n",
        "\n",
        "In this homework, you will practice plotting data and calculating model predictions and losses.\n",
        "\n",
        "You may find it helpful to refer to these GitHub repositories of Jupyter notebooks for sample code.\n",
        "\n",
        "* https://github.com/bu-cds-omds/dx500-examples\n",
        "* https://github.com/bu-cds-omds/dx601-examples\n",
        "* https://github.com/bu-cds-omds/dx602-examples\n",
        "\n",
        "Any calculations demonstrated in code examples or videos may be found in these notebooks, and you are allowed to copy this example code in your homework answers."
      ]
    },
    {
      "cell_type": "markdown",
      "metadata": {
        "id": "4sDiMJ05oO_Q"
      },
      "source": [
        "## Instructions\n",
        "\n",
        "You should replace every instance of \"...\" below.\n",
        "These are where you are expected to write code to answer each problem.\n",
        "\n",
        "After some of the problems, there are extra code cells that will test functions that you wrote so you can quickly see how they run on an example.\n",
        "If your code works on these examples, it is more likely to be correct.\n",
        "However, the autograder will test different examples, so working correctly on these examples does not guarantee full credit for the problem.\n",
        "You may change the example inputs to further test your functions on your own.\n",
        "You may also add your own example inputs for problems where we did not provide any.\n",
        "\n",
        "Be sure to run each code block after you edit it to make sure it runs as expected.\n",
        "When you are done, we strongly recommend you run all the code from scratch (Runtime menu -> Restart and Run all) to make sure your current code works for all problems.\n",
        "\n",
        "If your code raises an exception when run from scratch, it will  interfere with the auto-grader process causing you to lose some or all points for this homework.\n",
        "Please ask for help in YellowDig or schedule an appointment with a learning facilitator if you get stuck.\n"
      ]
    },
    {
      "cell_type": "markdown",
      "metadata": {},
      "source": [
        "## Shared Imports\n",
        "\n",
        "Do not install or use any additional modules.\n",
        "Installing additional modules may result in an autograder failure resulting in zero points for some or all problems."
      ]
    },
    {
      "cell_type": "code",
      "execution_count": 3,
      "metadata": {
        "id": "vU_BLpXEBq8E"
      },
      "outputs": [],
      "source": [
        "import matplotlib.pyplot as plt\n",
        "import numpy as np\n",
        "import pandas as pd\n",
        "import sklearn.linear_model"
      ]
    },
    {
      "cell_type": "markdown",
      "metadata": {
        "id": "Ue92HFnk-jSr"
      },
      "source": [
        "### Problem 1\n",
        "\n",
        "The code below loads a small mango data set into the variable `mango_data`.\n",
        "The variable `mango_data` is a pandas dataframe which lets you easily access data one row at a time or one column at a time.\n"
      ]
    },
    {
      "cell_type": "code",
      "execution_count": 4,
      "metadata": {
        "id": "WwPXKuYW-MeA"
      },
      "outputs": [],
      "source": [
        "mango_data = pd.read_csv(\"mango-tiny.tsv\", sep=\"\\t\")"
      ]
    },
    {
      "cell_type": "code",
      "execution_count": 5,
      "metadata": {
        "colab": {
          "base_uri": "https://localhost:8080/",
          "height": 297
        },
        "id": "5biBYb2g-YKX",
        "outputId": "bd99849c-1747-461a-84fd-4cda2953c47c"
      },
      "outputs": [
        {
          "data": {
            "text/html": [
              "<div>\n",
              "<style scoped>\n",
              "    .dataframe tbody tr th:only-of-type {\n",
              "        vertical-align: middle;\n",
              "    }\n",
              "\n",
              "    .dataframe tbody tr th {\n",
              "        vertical-align: top;\n",
              "    }\n",
              "\n",
              "    .dataframe thead th {\n",
              "        text-align: right;\n",
              "    }\n",
              "</style>\n",
              "<table border=\"1\" class=\"dataframe\">\n",
              "  <thead>\n",
              "    <tr style=\"text-align: right;\">\n",
              "      <th></th>\n",
              "      <th>green_rating</th>\n",
              "      <th>yellow_rating</th>\n",
              "      <th>softness</th>\n",
              "      <th>wrinkles</th>\n",
              "      <th>estimated_flavor</th>\n",
              "      <th>estimated_sweetness</th>\n",
              "      <th>rated_flavor</th>\n",
              "    </tr>\n",
              "  </thead>\n",
              "  <tbody>\n",
              "    <tr>\n",
              "      <th>0</th>\n",
              "      <td>1</td>\n",
              "      <td>5</td>\n",
              "      <td>4</td>\n",
              "      <td>0</td>\n",
              "      <td>4</td>\n",
              "      <td>4</td>\n",
              "      <td>5</td>\n",
              "    </tr>\n",
              "    <tr>\n",
              "      <th>1</th>\n",
              "      <td>1</td>\n",
              "      <td>5</td>\n",
              "      <td>5</td>\n",
              "      <td>1</td>\n",
              "      <td>5</td>\n",
              "      <td>5</td>\n",
              "      <td>1</td>\n",
              "    </tr>\n",
              "    <tr>\n",
              "      <th>2</th>\n",
              "      <td>2</td>\n",
              "      <td>4</td>\n",
              "      <td>3</td>\n",
              "      <td>1</td>\n",
              "      <td>3</td>\n",
              "      <td>3</td>\n",
              "      <td>3</td>\n",
              "    </tr>\n",
              "    <tr>\n",
              "      <th>3</th>\n",
              "      <td>3</td>\n",
              "      <td>3</td>\n",
              "      <td>2</td>\n",
              "      <td>0</td>\n",
              "      <td>2</td>\n",
              "      <td>1</td>\n",
              "      <td>2</td>\n",
              "    </tr>\n",
              "    <tr>\n",
              "      <th>4</th>\n",
              "      <td>5</td>\n",
              "      <td>1</td>\n",
              "      <td>1</td>\n",
              "      <td>1</td>\n",
              "      <td>1</td>\n",
              "      <td>1</td>\n",
              "      <td>1</td>\n",
              "    </tr>\n",
              "    <tr>\n",
              "      <th>5</th>\n",
              "      <td>4</td>\n",
              "      <td>2</td>\n",
              "      <td>1</td>\n",
              "      <td>1</td>\n",
              "      <td>1</td>\n",
              "      <td>1</td>\n",
              "      <td>1</td>\n",
              "    </tr>\n",
              "    <tr>\n",
              "      <th>6</th>\n",
              "      <td>5</td>\n",
              "      <td>1</td>\n",
              "      <td>1</td>\n",
              "      <td>1</td>\n",
              "      <td>2</td>\n",
              "      <td>1</td>\n",
              "      <td>1</td>\n",
              "    </tr>\n",
              "    <tr>\n",
              "      <th>7</th>\n",
              "      <td>3</td>\n",
              "      <td>3</td>\n",
              "      <td>2</td>\n",
              "      <td>1</td>\n",
              "      <td>2</td>\n",
              "      <td>2</td>\n",
              "      <td>2</td>\n",
              "    </tr>\n",
              "  </tbody>\n",
              "</table>\n",
              "</div>"
            ],
            "text/plain": [
              "   green_rating  yellow_rating  softness  wrinkles  estimated_flavor  \\\n",
              "0             1              5         4         0                 4   \n",
              "1             1              5         5         1                 5   \n",
              "2             2              4         3         1                 3   \n",
              "3             3              3         2         0                 2   \n",
              "4             5              1         1         1                 1   \n",
              "5             4              2         1         1                 1   \n",
              "6             5              1         1         1                 2   \n",
              "7             3              3         2         1                 2   \n",
              "\n",
              "   estimated_sweetness  rated_flavor  \n",
              "0                    4             5  \n",
              "1                    5             1  \n",
              "2                    3             3  \n",
              "3                    1             2  \n",
              "4                    1             1  \n",
              "5                    1             1  \n",
              "6                    1             1  \n",
              "7                    2             2  "
            ]
          },
          "execution_count": 5,
          "metadata": {},
          "output_type": "execute_result"
        }
      ],
      "source": [
        "mango_data"
      ]
    },
    {
      "cell_type": "markdown",
      "metadata": {
        "id": "RDJb2v6U_Wkb"
      },
      "source": [
        "Given a dataframe, you can select a column by indexing it with the name of the column.\n",
        "The indexing operation uses square brackets and the name of the column goes between them.\n",
        "Here is an example selecting the \"softness\" column of the mango data."
      ]
    },
    {
      "cell_type": "code",
      "execution_count": 6,
      "metadata": {
        "colab": {
          "base_uri": "https://localhost:8080/",
          "height": 331
        },
        "id": "DCo7MQVP-u4G",
        "outputId": "998b0106-e1df-4146-cb26-7d178d60fbeb"
      },
      "outputs": [
        {
          "data": {
            "text/plain": [
              "0    4\n",
              "1    5\n",
              "2    3\n",
              "3    2\n",
              "4    1\n",
              "5    1\n",
              "6    1\n",
              "7    2\n",
              "Name: softness, dtype: int64"
            ]
          },
          "execution_count": 6,
          "metadata": {},
          "output_type": "execute_result"
        }
      ],
      "source": [
        "mango_data[\"softness\"]"
      ]
    },
    {
      "cell_type": "markdown",
      "metadata": {
        "id": "owqR5luF-ggl"
      },
      "source": [
        "Most Python operations and functions that work with sequences such as lists also work with Pandas dataframe columns.\n",
        "For example, you can compute the sum of a dataframe column using the `sum` function."
      ]
    },
    {
      "cell_type": "code",
      "execution_count": 7,
      "metadata": {
        "colab": {
          "base_uri": "https://localhost:8080/"
        },
        "id": "3ZFCwWc2AiOX",
        "outputId": "e5295ddb-8967-420c-f831-c02a2786e9a1"
      },
      "outputs": [
        {
          "data": {
            "text/plain": [
              "19"
            ]
          },
          "execution_count": 7,
          "metadata": {},
          "output_type": "execute_result"
        }
      ],
      "source": [
        "sum(mango_data[\"softness\"])"
      ]
    },
    {
      "cell_type": "markdown",
      "metadata": {
        "id": "ycQ7Tw8LApQY"
      },
      "source": [
        "Set `p1` to the average of the estimated sweetness column in the small mango data set."
      ]
    },
    {
      "cell_type": "code",
      "execution_count": 8,
      "metadata": {
        "id": "WyNxML4oAvRh"
      },
      "outputs": [],
      "source": [
        "# YOUR CHANGES HERE\n",
        "\n",
        "p1 = np.average(mango_data[\"estimated_sweetness\"])"
      ]
    },
    {
      "cell_type": "markdown",
      "metadata": {
        "id": "2RwFeLSyYYMp"
      },
      "source": [
        "Check the value of `p1`."
      ]
    },
    {
      "cell_type": "code",
      "execution_count": 9,
      "metadata": {
        "colab": {
          "base_uri": "https://localhost:8080/"
        },
        "id": "FPvXKn0NAwRV",
        "outputId": "bcfface8-9ef1-410b-d459-b3dc23192f10"
      },
      "outputs": [
        {
          "data": {
            "text/plain": [
              "2.25"
            ]
          },
          "execution_count": 9,
          "metadata": {},
          "output_type": "execute_result"
        }
      ],
      "source": [
        "p1"
      ]
    },
    {
      "cell_type": "markdown",
      "metadata": {
        "id": "7-cQDJv6b4VQ"
      },
      "source": [
        "### Problem 2\n",
        "\n",
        "Write a function `p2` that takes in an input number `x` and returns $3 x + 1$.\n",
        "\n",
        "(You can make any specific linear function this way, but it may only work on simpler input formats.)"
      ]
    },
    {
      "cell_type": "code",
      "execution_count": 10,
      "metadata": {},
      "outputs": [],
      "source": [
        "# YOUR CHANGES HERE\n",
        "\n",
        "def linear(x):\n",
        "    return 3 * x + 1"
      ]
    },
    {
      "cell_type": "markdown",
      "metadata": {
        "id": "Ms5xuwJhBZGq"
      },
      "source": [
        "### Problem 3\n",
        "\n",
        "Plot the small mango data set using the estimated sweetness as the x axis and the rated flavor as the y axis.\n",
        "\n",
        "To do this, edit the line below that says\n",
        "```\n",
        "#p3 = plt.scatter(..., ...)\n",
        "```\n",
        "The first ellipsis should be replaced with the x data, and the second ellipsis should be replaced with the y data.\n",
        "After you do this, uncomment the line by removing the `#` character at the beginning.\n",
        "Make sure not to leave any extra spaces there."
      ]
    },
    {
      "cell_type": "code",
      "execution_count": 11,
      "metadata": {
        "id": "iN_rB_QJBk_K"
      },
      "outputs": [
        {
          "data": {
            "text/plain": [
              "Text(0.5, 1.0, 'Rated Flavor vs Estimated Sweetness')"
            ]
          },
          "execution_count": 11,
          "metadata": {},
          "output_type": "execute_result"
        },
        {
          "data": {
            "image/png": "[encoded data removed]",
            "text/plain": [
              "<Figure size 640x480 with 1 Axes>"
            ]
          },
          "metadata": {},
          "output_type": "display_data"
        }
      ],
      "source": [
        "# YOUR CHANGES HERE\n",
        "\n",
        "# uncomment the following line after filling in the data to be plotted.\n",
        "p3 = plt.scatter(mango_data[\"estimated_sweetness\"], mango_data[\"rated_flavor\"])\n",
        "\n",
        "plt.xlabel(\"Estimated Sweetness\")\n",
        "plt.ylabel(\"Rated Flavor\")\n",
        "plt.title(\"Rated Flavor vs Estimated Sweetness\")"
      ]
    },
    {
      "cell_type": "markdown",
      "metadata": {
        "id": "w_53DG2RDFco"
      },
      "source": [
        "### Problem 4\n",
        "\n",
        "The function `f4` implements a very simple linear function.\n",
        "`f4` takes in a dataframe and returns the \"estimated_sweetness\" column as its output.\n",
        "So $f_4(x) = 1.0 (\\mathrm{estimated~sweetness})$."
      ]
    },
    {
      "cell_type": "code",
      "execution_count": 12,
      "metadata": {
        "id": "ZcUQ3mnBOLmU"
      },
      "outputs": [],
      "source": [
        "def f4(df):\n",
        "    # the rename here is not strictly necessary, but makes the output more clear below.\n",
        "    # without the rename, the column below would be called estimated_sweetness.\n",
        "    return df[\"estimated_sweetness\"].rename(\"prediction\")"
      ]
    },
    {
      "cell_type": "code",
      "execution_count": 13,
      "metadata": {
        "colab": {
          "base_uri": "https://localhost:8080/",
          "height": 331
        },
        "id": "oJKxyjM6OgHp",
        "outputId": "1a3cbaf5-6c95-41c4-a103-a62dce35cea0"
      },
      "outputs": [
        {
          "data": {
            "text/plain": [
              "0    4\n",
              "1    5\n",
              "2    3\n",
              "3    1\n",
              "4    1\n",
              "5    1\n",
              "6    1\n",
              "7    2\n",
              "Name: prediction, dtype: int64"
            ]
          },
          "execution_count": 13,
          "metadata": {},
          "output_type": "execute_result"
        }
      ],
      "source": [
        "f4(mango_data)"
      ]
    },
    {
      "cell_type": "markdown",
      "metadata": {
        "id": "34OwchDmPVPz"
      },
      "source": [
        "Set `p4` to be the residuals from using `f4` as a model predicting the rated flavor column.\n",
        "The result should be a sequence of residuals, not a single number.\n",
        "\n",
        "A Python list, NumPy array, or pandas are all acceptable output types.\n",
        "Whatever output type you use, the order of outputs should match the order of rows in the mango data set."
      ]
    },
    {
      "cell_type": "code",
      "execution_count": 18,
      "metadata": {
        "id": "CNL0vOHrDfmT"
      },
      "outputs": [],
      "source": [
        "# YOUR CHANGES HERE\n",
        "\n",
        "p4 = mango_data[\"rated_flavor\"] - f4(mango_data)"
      ]
    },
    {
      "cell_type": "markdown",
      "metadata": {
        "id": "PlYpei17YeFQ"
      },
      "source": [
        "Check the values in `p4`."
      ]
    },
    {
      "cell_type": "code",
      "execution_count": 19,
      "metadata": {
        "colab": {
          "base_uri": "https://localhost:8080/"
        },
        "id": "ne_0Q2RREfhz",
        "outputId": "2b198dd8-4e0a-4e6a-ad17-61502c93458d"
      },
      "outputs": [
        {
          "data": {
            "text/plain": [
              "0    1\n",
              "1   -4\n",
              "2    0\n",
              "3    1\n",
              "4    0\n",
              "5    0\n",
              "6    0\n",
              "7    0\n",
              "dtype: int64"
            ]
          },
          "execution_count": 19,
          "metadata": {},
          "output_type": "execute_result"
        }
      ],
      "source": [
        "p4"
      ]
    },
    {
      "cell_type": "markdown",
      "metadata": {
        "id": "QDUw3_EnFnbY"
      },
      "source": [
        "### Problem 5\n",
        "\n",
        "The function `f5` is another linear function computing $f_5(x) = 0.8 (\\mathrm{yellow~rating}) + 0.2 (\\mathrm{softness})$.\n"
      ]
    },
    {
      "cell_type": "code",
      "execution_count": 21,
      "metadata": {
        "id": "tI7Fr0blQFJo"
      },
      "outputs": [],
      "source": [
        "def f5(df):\n",
        "    return 0.8 * df[\"yellow_rating\"] + 0.2 * df[\"softness\"]"
      ]
    },
    {
      "cell_type": "code",
      "execution_count": 22,
      "metadata": {
        "colab": {
          "base_uri": "https://localhost:8080/",
          "height": 331
        },
        "id": "mi6H-RZxQTVz",
        "outputId": "ecfd6d3b-55b9-40d2-8f87-b4f673ba8062"
      },
      "outputs": [
        {
          "data": {
            "text/plain": [
              "0    4.8\n",
              "1    5.0\n",
              "2    3.8\n",
              "3    2.8\n",
              "4    1.0\n",
              "5    1.8\n",
              "6    1.0\n",
              "7    2.8\n",
              "dtype: float64"
            ]
          },
          "execution_count": 22,
          "metadata": {},
          "output_type": "execute_result"
        }
      ],
      "source": [
        "f5(mango_data)"
      ]
    },
    {
      "cell_type": "markdown",
      "metadata": {
        "id": "Cu3pYOhERHt1"
      },
      "source": [
        "Set `p5` to be the $L_1$ loss of each row of data after using `f5` to predict the rated flavor column.\n",
        "The result should be a sequence of losses, not a single number.\n",
        "\n",
        "A Python list, NumPy array, or pandas are all acceptable output types.\n",
        "Whatever output type you use, the order of outputs should match the order of rows in the mango data set."
      ]
    },
    {
      "cell_type": "code",
      "execution_count": 23,
      "metadata": {
        "id": "zvIjSLCdGbZM"
      },
      "outputs": [],
      "source": [
        "# YOUR CHANGES HERE\n",
        "\n",
        "p5 = abs(mango_data[\"rated_flavor\"] - f5(mango_data))"
      ]
    },
    {
      "cell_type": "markdown",
      "metadata": {
        "id": "Pz9yaOncYu1n"
      },
      "source": [
        "Check the values in `p5`."
      ]
    },
    {
      "cell_type": "code",
      "execution_count": 24,
      "metadata": {
        "id": "j8QCAkWMGdkv"
      },
      "outputs": [
        {
          "data": {
            "text/plain": [
              "0    0.2\n",
              "1    4.0\n",
              "2    0.8\n",
              "3    0.8\n",
              "4    0.0\n",
              "5    0.8\n",
              "6    0.0\n",
              "7    0.8\n",
              "dtype: float64"
            ]
          },
          "execution_count": 24,
          "metadata": {},
          "output_type": "execute_result"
        }
      ],
      "source": [
        "p5"
      ]
    },
    {
      "cell_type": "markdown",
      "metadata": {
        "id": "LE2GZpTZEjfL"
      },
      "source": [
        "### Problem 6\n",
        "\n",
        "The function `f6` is a linear function computing $f_6(x) = 1.2 (\\mathrm{yellow~rating}) - 0.1 (\\mathrm{green~rating}) - 0.1 (\\mathrm{wrinkles})$."
      ]
    },
    {
      "cell_type": "code",
      "execution_count": 25,
      "metadata": {
        "id": "7O7AReMcTCEJ"
      },
      "outputs": [],
      "source": [
        "def f6(df):\n",
        "    return 1.2 * df[\"yellow_rating\"] - 0.1 * df[\"green_rating\"] - 0.1 * df[\"wrinkles\"]"
      ]
    },
    {
      "cell_type": "code",
      "execution_count": 26,
      "metadata": {
        "colab": {
          "base_uri": "https://localhost:8080/",
          "height": 331
        },
        "id": "iivt-s3TTg0o",
        "outputId": "2c11280a-d08d-4eab-9444-493fda0062a9"
      },
      "outputs": [
        {
          "data": {
            "text/plain": [
              "0    5.9\n",
              "1    5.8\n",
              "2    4.5\n",
              "3    3.3\n",
              "4    0.6\n",
              "5    1.9\n",
              "6    0.6\n",
              "7    3.2\n",
              "dtype: float64"
            ]
          },
          "execution_count": 26,
          "metadata": {},
          "output_type": "execute_result"
        }
      ],
      "source": [
        "f6(mango_data)"
      ]
    },
    {
      "cell_type": "markdown",
      "metadata": {
        "id": "lUz_du4qSOEa"
      },
      "source": [
        "Set `p6` to be the average $L_2$ loss using `f6` to predict the rated flavor column.\n",
        "\n",
        "**Note that the average $L_2$ loss was requested.**\n",
        "Some of the videos this week calculated the sum of $L_2$ losses instead."
      ]
    },
    {
      "cell_type": "code",
      "execution_count": 27,
      "metadata": {
        "id": "P-KRYZurHBQY"
      },
      "outputs": [],
      "source": [
        "# YOUR CHANGES HERE\n",
        "\n",
        "p6 = np.average((mango_data[\"rated_flavor\"] - f6(mango_data)) ** 2)"
      ]
    },
    {
      "cell_type": "markdown",
      "metadata": {
        "id": "KUlORPfEYk7M"
      },
      "source": [
        "Check the value of `p6`."
      ]
    },
    {
      "cell_type": "code",
      "execution_count": 28,
      "metadata": {
        "id": "vxJZcCrlHDGY"
      },
      "outputs": [
        {
          "data": {
            "text/plain": [
              "3.795000000000001"
            ]
          },
          "execution_count": 28,
          "metadata": {},
          "output_type": "execute_result"
        }
      ],
      "source": [
        "p6"
      ]
    },
    {
      "cell_type": "markdown",
      "metadata": {
        "id": "D5X3FDxqUviA"
      },
      "source": [
        "### Problem 7\n",
        "\n",
        "Write a function `p7` taking in a dataframe like the mangos data, and returning the \"estimated_flavor\" column as its predictions.\n",
        "(This should be similar to the predictions in Problem 3.)"
      ]
    },
    {
      "cell_type": "code",
      "execution_count": 29,
      "metadata": {
        "id": "d65RLeqxVGeL"
      },
      "outputs": [],
      "source": [
        "# YOUR CHANGES HERE\n",
        "\n",
        "def p7(df):\n",
        "    return df[\"estimated_flavor\"]"
      ]
    },
    {
      "cell_type": "markdown",
      "metadata": {
        "id": "HtERTs1SVJVU"
      },
      "source": [
        "Check the output of p7 on the mango data set."
      ]
    },
    {
      "cell_type": "code",
      "execution_count": 30,
      "metadata": {
        "id": "ihAvfuV4VMLS"
      },
      "outputs": [
        {
          "data": {
            "text/plain": [
              "0    4\n",
              "1    5\n",
              "2    3\n",
              "3    2\n",
              "4    1\n",
              "5    1\n",
              "6    2\n",
              "7    2\n",
              "Name: estimated_flavor, dtype: int64"
            ]
          },
          "execution_count": 30,
          "metadata": {},
          "output_type": "execute_result"
        }
      ],
      "source": [
        "p7(mango_data)"
      ]
    },
    {
      "cell_type": "markdown",
      "metadata": {
        "id": "CScvFUGCTzbL"
      },
      "source": [
        "### Problem 8\n",
        "\n",
        "Set `p8` to be the average $L_2$ loss using the \"yellow_rating\" column to predict the \"rated_flavor\" column as in Problem 3."
      ]
    },
    {
      "cell_type": "code",
      "execution_count": 31,
      "metadata": {
        "id": "88Ip7dA5TyQg"
      },
      "outputs": [],
      "source": [
        "# YOUR CHANGES HERE\n",
        "\n",
        "p8 = np.average((mango_data[\"rated_flavor\"] - mango_data[\"yellow_rating\"]) ** 2)"
      ]
    },
    {
      "cell_type": "markdown",
      "metadata": {
        "id": "vi5zmmr3UJum"
      },
      "source": [
        "Check the value of `p8`."
      ]
    },
    {
      "cell_type": "code",
      "execution_count": 32,
      "metadata": {
        "id": "xXCnP3iTULWw"
      },
      "outputs": [
        {
          "data": {
            "text/plain": [
              "2.5"
            ]
          },
          "execution_count": 32,
          "metadata": {},
          "output_type": "execute_result"
        }
      ],
      "source": [
        "p8"
      ]
    },
    {
      "cell_type": "markdown",
      "metadata": {
        "id": "rraV_8bHWTXl"
      },
      "source": [
        "### Problem 9\n",
        "\n",
        "Write a function `p9` taking in a dataframe returning the results of $0.5 (\\mathrm{yellow~rating}) + 0.4 (\\mathrm{estimated~flavor})$."
      ]
    },
    {
      "cell_type": "code",
      "execution_count": 33,
      "metadata": {
        "id": "MC-XVY3IWz3x"
      },
      "outputs": [],
      "source": [
        "# YOUR CHANGES HERE\n",
        "\n",
        "def p9(df):\n",
        "    return 0.5 * (mango_data[\"yellow_rating\"]) + 0.4 * (mango_data[\"estimated_flavor\"])"
      ]
    },
    {
      "cell_type": "markdown",
      "metadata": {
        "id": "_IbItU5tW2-w"
      },
      "source": [
        "Check the output of `p9` with the mango data set."
      ]
    },
    {
      "cell_type": "code",
      "execution_count": 34,
      "metadata": {
        "colab": {
          "base_uri": "https://localhost:8080/"
        },
        "id": "leKBoYh_W5Pa",
        "outputId": "554d9db2-28cc-4026-8e02-1133b6ccce41"
      },
      "outputs": [
        {
          "data": {
            "text/plain": [
              "0    4.1\n",
              "1    4.5\n",
              "2    3.2\n",
              "3    2.3\n",
              "4    0.9\n",
              "5    1.4\n",
              "6    1.3\n",
              "7    2.3\n",
              "dtype: float64"
            ]
          },
          "execution_count": 34,
          "metadata": {},
          "output_type": "execute_result"
        }
      ],
      "source": [
        "p9(mango_data)"
      ]
    },
    {
      "cell_type": "markdown",
      "metadata": {
        "id": "ZwMZcSkdW8nO"
      },
      "source": [
        "### Problem 10\n",
        "\n",
        "Set `p10` to be the average $L_1$ loss using the prediction $0.3 (\\mathrm{yellow~rating}) + 0.1(\\mathrm{softness}) + 0.4(\\mathrm{estimated~sweetness})$ for the mango data set's rated flavor column."
      ]
    },
    {
      "cell_type": "code",
      "execution_count": 35,
      "metadata": {
        "id": "J3emV8dqXlgN"
      },
      "outputs": [],
      "source": [
        "# YOUR CHANGES HERE\n",
        "\n",
        "p10 = 0.3 * (mango_data[\"yellow_rating\"]) + 0.1 * (mango_data[\"softness\"]) + .4 * (mango_data[\"estimated_sweetness\"])"
      ]
    },
    {
      "cell_type": "markdown",
      "metadata": {
        "id": "QkcC4ULtXm2o"
      },
      "source": [
        "Check the value of `p10`."
      ]
    },
    {
      "cell_type": "code",
      "execution_count": 36,
      "metadata": {
        "id": "64OoS_GZXogM"
      },
      "outputs": [
        {
          "data": {
            "text/plain": [
              "0    3.5\n",
              "1    4.0\n",
              "2    2.7\n",
              "3    1.5\n",
              "4    0.8\n",
              "5    1.1\n",
              "6    0.8\n",
              "7    1.9\n",
              "dtype: float64"
            ]
          },
          "execution_count": 36,
          "metadata": {},
          "output_type": "execute_result"
        }
      ],
      "source": [
        "p10"
      ]
    },
    {
      "cell_type": "markdown",
      "metadata": {},
      "source": [
        "### Problem 11\n",
        "\n",
        "Build a linear regression for the mango rated flavor column using just the estimated flavor column.\n",
        "Set `p11` to the prediction of this model when the estimated flavor value is 3."
      ]
    },
    {
      "cell_type": "code",
      "execution_count": 37,
      "metadata": {},
      "outputs": [],
      "source": [
        "# YOUR CHANGES HERE\n",
        "model = sklearn.linear_model.LinearRegression()\n",
        "feature = mango_data[[\"estimated_flavor\"]]\n",
        "target = mango_data[[\"rated_flavor\"]]\n",
        "model.fit(feature, target)\n",
        "p11 = model.predict(pd.DataFrame({'estimated_flavor': [3]}))[0]"
      ]
    },
    {
      "cell_type": "markdown",
      "metadata": {},
      "source": [
        "Check the value of `p11`."
      ]
    },
    {
      "cell_type": "code",
      "execution_count": 38,
      "metadata": {},
      "outputs": [
        {
          "data": {
            "text/plain": [
              "array([2.21428571])"
            ]
          },
          "execution_count": 38,
          "metadata": {},
          "output_type": "execute_result"
        }
      ],
      "source": [
        "p11"
      ]
    },
    {
      "cell_type": "markdown",
      "metadata": {},
      "source": [
        "### Problem 12\n",
        "\n",
        "Build a linear regression for the mango rated flavor column using just the yellow rating column.\n",
        "Set `p12` to the additive constant in the linear equation.\n",
        "\n",
        "You can look at the videos or code examples to see how to get the additive constant depending how you built the model, or evaluate your model with all zero inputs."
      ]
    },
    {
      "cell_type": "code",
      "execution_count": 39,
      "metadata": {},
      "outputs": [],
      "source": [
        "# YOUR CHANGES HERE\n",
        "model = sklearn.linear_model.LinearRegression()\n",
        "feature = mango_data[[\"yellow_rating\"]]\n",
        "target = mango_data[[\"rated_flavor\"]]\n",
        "model.fit(feature, target)\n",
        "p12 = model.intercept_"
      ]
    },
    {
      "cell_type": "markdown",
      "metadata": {},
      "source": [
        "Check the value of `p12`."
      ]
    },
    {
      "cell_type": "code",
      "execution_count": 40,
      "metadata": {},
      "outputs": [
        {
          "data": {
            "text/plain": [
              "array([0.33333333])"
            ]
          },
          "execution_count": 40,
          "metadata": {},
          "output_type": "execute_result"
        }
      ],
      "source": [
        "p12"
      ]
    },
    {
      "cell_type": "markdown",
      "metadata": {},
      "source": [
        "### Problem 13\n",
        "\n",
        "Build a linear regression for the mango rated flavor column using just the yellow rating column.\n",
        "(You can reuse the regression built for problem 12.)\n",
        "Set `p13` to the coefficient of the yellow rating value in the linear equation.\n",
        "\n",
        "You can look at the videos or code examples to see how to get coefficient, or you may be able to deduce it with a couple evaluations of the model (e.g. $f(1) - f(0)$)."
      ]
    },
    {
      "cell_type": "code",
      "execution_count": 41,
      "metadata": {},
      "outputs": [],
      "source": [
        "# YOUR CHANGES HERE\n",
        "model = sklearn.linear_model.LinearRegression()\n",
        "feature = mango_data[[\"yellow_rating\"]]\n",
        "target = mango_data[[\"rated_flavor\"]]\n",
        "model.fit(feature, target)\n",
        "p13 = model.coef_[0]"
      ]
    },
    {
      "cell_type": "markdown",
      "metadata": {},
      "source": [
        "Check the value of `p13`."
      ]
    },
    {
      "cell_type": "code",
      "execution_count": 42,
      "metadata": {},
      "outputs": [
        {
          "data": {
            "text/plain": [
              "array([0.55555556])"
            ]
          },
          "execution_count": 42,
          "metadata": {},
          "output_type": "execute_result"
        }
      ],
      "source": [
        "p13"
      ]
    },
    {
      "cell_type": "markdown",
      "metadata": {
        "id": "-W9vt7g7Y_-_"
      },
      "source": [
        "### Problem 14\n",
        "\n",
        "Set `p14` to be the sample variance of the rated flavors in the mango data set."
      ]
    },
    {
      "cell_type": "code",
      "execution_count": 43,
      "metadata": {
        "id": "W1tI40DQZJTZ"
      },
      "outputs": [],
      "source": [
        "# YOUR CHANGES HERE\n",
        "p14 = mango_data[\"rated_flavor\"].var()"
      ]
    },
    {
      "cell_type": "markdown",
      "metadata": {},
      "source": [
        "Check the value of `p14`."
      ]
    },
    {
      "cell_type": "code",
      "execution_count": 44,
      "metadata": {},
      "outputs": [
        {
          "data": {
            "text/plain": [
              "2.0"
            ]
          },
          "execution_count": 44,
          "metadata": {},
          "output_type": "execute_result"
        }
      ],
      "source": [
        "p14"
      ]
    },
    {
      "cell_type": "markdown",
      "metadata": {
        "id": "dgmtpHkbZK6S"
      },
      "source": [
        "### Problem 15\n",
        "\n",
        "Set `p15` to be the means of each column of the mango data set.\n",
        "Your output should be a sequence of the means in the same order as the columns of the mango data set.\n",
        "\n",
        "You can calculate this however you like with just Python, NumPy's [numpy.mean](), or pandas' [pandas.DataFrame.mean](https://pandas.pydata.org/pandas-docs/stable/reference/api/pandas.DataFrame.mean.html) method.\n",
        "We suggest trying the pandas method for your own convenience.\n"
      ]
    },
    {
      "cell_type": "code",
      "execution_count": 45,
      "metadata": {
        "id": "_1Ty-1wxaKgp"
      },
      "outputs": [],
      "source": [
        "# YOUR CHANGES HERE\n",
        "\n",
        "p15 = np.mean(mango_data.to_numpy(), axis=0)"
      ]
    },
    {
      "cell_type": "markdown",
      "metadata": {},
      "source": [
        "Check the values in `p15`."
      ]
    },
    {
      "cell_type": "code",
      "execution_count": 46,
      "metadata": {},
      "outputs": [
        {
          "data": {
            "text/plain": [
              "array([3.   , 3.   , 2.375, 0.75 , 2.5  , 2.25 , 2.   ])"
            ]
          },
          "execution_count": 46,
          "metadata": {},
          "output_type": "execute_result"
        }
      ],
      "source": [
        "p15"
      ]
    },
    {
      "cell_type": "markdown",
      "metadata": {
        "id": "ffYsVqOrapLr"
      },
      "source": [
        "### Problem 16\n",
        "\n",
        "Given the following three functions,\n",
        "\n",
        "* $f_a(x) = 1.0 (\\mathrm{yellow~rating})$\n",
        "* $f_b(x) = 0.4 (\\mathrm{yellow~rating}) + 0.6 (\\mathrm{estimated~sweetness})$\n",
        "* $f_c(x) = 0.4 (\\mathrm{yellow~rating}) + 0.2 (\\mathrm{softness}) + 0.3 (\\mathrm{estimated~sweetness})$\n",
        "\n",
        "set `p16` to `\"a\"`, `\"b\"`, or `\"c\"` to indicate which one has the lowest $L_1$ loss predicting the rated flavor column.\n"
      ]
    },
    {
      "cell_type": "code",
      "execution_count": null,
      "metadata": {
        "id": "78iwN5f4bKtS"
      },
      "outputs": [],
      "source": [
        "# YOUR CHANGES HERE\n",
        "\n",
        "p16 = \"c\""
      ]
    },
    {
      "cell_type": "markdown",
      "metadata": {
        "id": "kiCe_P5ubjnR"
      },
      "source": [
        "### Problem 17\n",
        "\n",
        "Load the data file \"f17.tsv\" and set `p17` to be a sequence of the means of each column."
      ]
    },
    {
      "cell_type": "code",
      "execution_count": 47,
      "metadata": {
        "id": "ve2czA0Ebzdf"
      },
      "outputs": [],
      "source": [
        "# YOUR CHANGES HERE\n",
        "data = pd.read_csv(\"f17.tsv\", sep=\"\\t\")\n",
        "p17 = data.mean()"
      ]
    },
    {
      "cell_type": "markdown",
      "metadata": {
        "id": "rJlcKEafaIZu"
      },
      "source": [
        "### Problem 18\n",
        "\n",
        "Set `p18` to be the $R^2$ value of the function `f18` predicting the rated flavor for the mango data set."
      ]
    },
    {
      "cell_type": "code",
      "execution_count": 48,
      "metadata": {
        "id": "pqbMFuUpaj5m"
      },
      "outputs": [],
      "source": [
        "def f18(df):\n",
        "    return 0.7 * df[\"estimated_flavor\"]"
      ]
    },
    {
      "cell_type": "code",
      "execution_count": 49,
      "metadata": {
        "id": "JbEO9iX4VwQG"
      },
      "outputs": [],
      "source": [
        "# YOUR CHANGES HERE\n",
        "correlation_matrix = np.corrcoef(mango_data[\"rated_flavor\"], f18(mango_data))\n",
        "p18 = correlation_matrix[0, 1] ** 2"
      ]
    },
    {
      "cell_type": "markdown",
      "metadata": {
        "id": "_5SxtVnlcFWd"
      },
      "source": [
        "### Problem 19\n",
        "\n",
        "Set `p19` to be the average $L_2$ loss of using `f19` to predict the rated flavor of the mango data set.\n",
        "\n",
        "`f19` is not linear, but this should not affect your loss calculation."
      ]
    },
    {
      "cell_type": "code",
      "execution_count": 50,
      "metadata": {
        "id": "Ri6AjxYpcZol"
      },
      "outputs": [],
      "source": [
        "def f19(df):\n",
        "    return (df[\"yellow_rating\"] ** 2) / 10 + df[\"estimated_sweetness\"] * 0.5"
      ]
    },
    {
      "cell_type": "code",
      "execution_count": 51,
      "metadata": {
        "colab": {
          "base_uri": "https://localhost:8080/"
        },
        "id": "vHMUl4L6cnD4",
        "outputId": "5139bc4c-f55a-49b7-ddfb-e65ca1d36d1d"
      },
      "outputs": [],
      "source": [
        "# YOUR CHANGES HERE\n",
        "\n",
        "p19 = np.average((mango_data[\"rated_flavor\"] - f19(mango_data)) ** 2)"
      ]
    },
    {
      "cell_type": "markdown",
      "metadata": {},
      "source": [
        "Check the value of `p19`."
      ]
    },
    {
      "cell_type": "code",
      "execution_count": 52,
      "metadata": {},
      "outputs": [
        {
          "data": {
            "text/plain": [
              "2.12"
            ]
          },
          "execution_count": 52,
          "metadata": {},
          "output_type": "execute_result"
        }
      ],
      "source": [
        "p19"
      ]
    },
    {
      "cell_type": "markdown",
      "metadata": {},
      "source": [
        "### Problem 20\n",
        "\n",
        "Build a linear regression for the mango rated flavor column using all the other columns as inputs.\n",
        "Set `p20` to the column with the highest positive coefficient.\n",
        "(`p20` should be a string with the name of the column.)"
      ]
    },
    {
      "cell_type": "code",
      "execution_count": null,
      "metadata": {},
      "outputs": [],
      "source": [
        "mango_inputs = mango_data.drop(\"rated_flavor\", axis=1)\n",
        "mango_inputs"
      ]
    },
    {
      "cell_type": "code",
      "execution_count": null,
      "metadata": {},
      "outputs": [],
      "source": [
        "# YOUR CHANGES HERE\n",
        "\n",
        "p20 = ..."
      ]
    },
    {
      "cell_type": "markdown",
      "metadata": {},
      "source": [
        "Check the value of `p20`."
      ]
    },
    {
      "cell_type": "code",
      "execution_count": null,
      "metadata": {},
      "outputs": [],
      "source": [
        "p20"
      ]
    },
    {
      "cell_type": "markdown",
      "metadata": {},
      "source": [
        "### Generative AI Usage\n",
        "\n",
        "If you used any generative AI tools, please add links to your transcripts below, and any other information that you feel is necessary to comply with the [generative AI policy](https://www.bu.edu/cds-faculty/culture-community/gaia-policy/).\n",
        "If you did not use any generative AI tools, simply write NONE below."
      ]
    },
    {
      "cell_type": "markdown",
      "metadata": {},
      "source": [
        "NONE"
      ]
    }
  ],
  "metadata": {
    "colab": {
      "toc_visible": false
    },
    "kernelspec": {
      "display_name": "Python 3",
      "name": "python3"
    },
    "language_info": {
      "codemirror_mode": {
        "name": "ipython",
        "version": 3
      },
      "file_extension": ".py",
      "mimetype": "text/x-python",
      "name": "python",
      "nbconvert_exporter": "python",
      "pygments_lexer": "ipython3",
      "version": "3.11.4"
    }
  },
  "nbformat": 4,
  "nbformat_minor": 0
}
